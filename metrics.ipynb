{
 "cells": [
  {
   "cell_type": "code",
   "execution_count": 1,
   "id": "50529ade",
   "metadata": {
    "ExecuteTime": {
     "end_time": "2023-08-23T11:04:13.795268Z",
     "start_time": "2023-08-23T11:04:10.839551Z"
    }
   },
   "outputs": [],
   "source": [
    "import torch\n",
    "import numpy as np\n",
    "\n",
    "# --- The following Python libraries are employed to validate the correctness of the metrics. --- #\n",
    "import sklearn\n",
    "from sklearn.metrics import accuracy_score\n",
    "from sklearn.metrics import precision_score\n",
    "from sklearn.metrics import recall_score\n",
    "from sklearn.metrics import f1_score"
   ]
  },
  {
   "cell_type": "code",
   "execution_count": 2,
   "id": "cec4976d",
   "metadata": {
    "ExecuteTime": {
     "end_time": "2023-08-23T11:04:13.842207Z",
     "start_time": "2023-08-23T11:04:13.799269Z"
    }
   },
   "outputs": [],
   "source": [
    "class metrics:\n",
    "    \"\"\"\n",
    "        Input: pred -> [B, N], true -> [B, N]\n",
    "        where [B, N] denotes a two-dimensional array, with B representing BatchSize and N representing the length of the samples.\n",
    "        Output: Average metrics per batch.\n",
    "        \n",
    "        输入: pred -> [B, N], true -> [B, N]\n",
    "        其中[B, N]表示一个二维数组，其中B表示BatchSize，N表示样本长度\n",
    "        返回：每个Batch的平均指标\n",
    "    \"\"\"\n",
    "    def __init__(self):\n",
    "        pass\n",
    "    \n",
    "    def clipping_k(self, pred, true, num = 0):\n",
    "        \"\"\"\n",
    "            select Topk order by [pred]\n",
    "        \"\"\"\n",
    "        if num > 0:\n",
    "            num = min(num, true.shape[1])\n",
    "            pred, indecs = torch.sort(pred, dim=1, descending=True)\n",
    "            true = true.gather(dim=1, index=indecs)\n",
    "            pred, true = pred[:, :num], true[:, :num]\n",
    "        return pred, true\n",
    "    \n",
    "    def Acc_k(self, pred, true, num = 0, threshold = 0.5):\n",
    "        \"\"\"\n",
    "            ACC = (TP + TN) / (TP + FP + FN + TN)\n",
    "        \"\"\"\n",
    "        pred, true = self.clipping_k(pred, true, num)\n",
    "        pred_binary = (pred > threshold).int()\n",
    "        return 1 - (pred_binary ^ true).sum() / true.numel()\n",
    "    \n",
    "    def Precision_k(self, pred, true, num = 0, threshold = 0.5):\n",
    "        \"\"\"\n",
    "            Precision = TP / (TP + FN)\n",
    "        \"\"\"\n",
    "        pred, true = self.clipping_k(pred, true, num)\n",
    "        pred_binary = (pred > threshold).int()\n",
    "        PredPositive_Place = torch.where(pred_binary==1)\n",
    "        return true[PredPositive_Place].sum() / len(PredPositive_Place[0])\n",
    "    \n",
    "    def Recall_k(self, pred, true, num = 0, threshold = 0.5):\n",
    "        \"\"\"\n",
    "            Recall = TP / (TP + FP)\n",
    "        \"\"\"\n",
    "        pred, true = self.clipping_k(pred, true, num)\n",
    "        pred_binary = (pred > threshold).int()\n",
    "        TruePositive_Place = torch.where(true==1)\n",
    "        return pred_binary[TruePositive_Place].sum() / len(TruePositive_Place[0])\n",
    "    \n",
    "    def F1_score_k(self, pred, true, num = 0, threshold = 0.5):\n",
    "        \"\"\"\n",
    "            F1 = 2*Recall*Precision / (Recall + Precision)\n",
    "               = 2*TP / (2 * TP + FN + FP)\n",
    "               = 2*TP / ((Pred_Positive) + (True_Positive))\n",
    "        \"\"\"\n",
    "        pred, true = self.clipping_k(pred, true, num)\n",
    "        pred_binary = (pred > threshold).int()\n",
    "        return 2 * pred_binary[torch.where(true==1)].sum() \\\n",
    "                / (len(torch.where(true==1)[0]) + len(torch.where(pred_binary==1)[0]))\n",
    "    \n",
    "    def CG_k(self, pred, true, num = 0, threshold = 0.5):\n",
    "        \"\"\"\n",
    "            CG@k = sum_k(rel_i)\n",
    "        \"\"\"\n",
    "        pred, true = self.clipping_k(pred, true, num)\n",
    "        return true.sum()\n",
    "        pass\n",
    "    \n",
    "    def DCG_k(self, pred, true, num = 0, threshold = 0.5):\n",
    "        \"\"\"\n",
    "            DCG@k = sum_k(rel_i / log2(i + 1))\n",
    "        \"\"\"\n",
    "        pred, true = self.clipping_k(pred, true, num)\n",
    "        _log = torch.log2(torch.arange(true.shape[1]) + 2).to('cpu' if pred.device == 'cpu' else 'cuda')\n",
    "        return (true / _log).sum()\n",
    "        pass\n",
    "    \n",
    "    def IDCG_k(self, pred, true, num = 0, threshold = 0.5):\n",
    "        \"\"\"\n",
    "            IDCG@k = sum_k([sort]->rel_i / log2(i + 1))\n",
    "        \"\"\"\n",
    "        pred, true = self.clipping_k(pred, true, num)\n",
    "        true = torch.sort(true, dim=1, descending=True)[0]\n",
    "        _log = torch.log2(torch.arange(true.shape[1]) + 2).to('cpu' if pred.device == 'cpu' else 'cuda')\n",
    "        return (true / _log).sum()\n",
    "        pass\n",
    "    \n",
    "    def NDCG_k(self, pred, true, num = 0, threshold = 0.5):\n",
    "        \"\"\"\n",
    "            NDCG@k = DCG@k / IDCG@k\n",
    "        \"\"\"\n",
    "        pred, true = self.clipping_k(pred, true, num)\n",
    "        _log = torch.log2(torch.arange(2, true.shape[1] + 2)).to('cpu' if pred.device == 'cpu' else 'cuda')\n",
    "        return (((true / _log).sum(1)) / (torch.sort(true, dim=1, descending=True)[0] / _log).sum(1)).sum()\n",
    "        pass\n",
    "    \n",
    "    def HR_k(self, pred, true, num = 0, threshold = 0.5):\n",
    "        \"\"\"\n",
    "            HR@k = sum_k(rel_i) / len(rel)\n",
    "            \n",
    "            Note: The original definition of HR involves the probability of correctly recommending \n",
    "            positive samples multiple times for an individual. However, during a single recommendation \n",
    "            process of the model, evaluations for all or multiple items are generated. As a result, \n",
    "            the top-k predictions from 'pred' are usually extracted to represent the items with the \n",
    "            highest predicted likelihood of interaction, which are then compared to the ground truth. \n",
    "            Therefore, based on my comprehension, the calculation is analogous to CG. :)\n",
    "            \n",
    "            注：HR原定义是对个人推荐多次命中正样本的概率，而模型的一次推荐过程通常产生所有/多个商品的评估\n",
    "            因此通常将pred的topk拿出表示预测最可能交互的商品与true比较，因此在我理解上计算与CG相同 :)\n",
    "        \"\"\"\n",
    "        pred, true = self.clipping_k(pred, true, num)\n",
    "        return true.sum() / true.numel()\n",
    "        pass\n",
    "    \n",
    "    def ARHR(self, pred, true, num = 0, threshold = 0.5):\n",
    "        \"\"\"\n",
    "            ARHR@k = sum_k(rel_i / i) / len(rel)\n",
    "        \"\"\"\n",
    "        pred, true = self.clipping_k(pred, true, num)\n",
    "        _place = 1 / torch.arange(1, true.shape[1] + 1, device=\"cpu\" if pred.device == 'cpu' else 'cuda')\n",
    "        return (true * _place).sum() / true.numel()\n",
    "        pass"
   ]
  },
  {
   "cell_type": "markdown",
   "id": "bba51025",
   "metadata": {},
   "source": [
    "---\n",
    "## validate the correctness of the metrics"
   ]
  },
  {
   "cell_type": "markdown",
   "id": "0f97ffb6",
   "metadata": {},
   "source": [
    "#### step 0. Generating Data"
   ]
  },
  {
   "cell_type": "code",
   "execution_count": 3,
   "id": "39fbd95f",
   "metadata": {
    "ExecuteTime": {
     "end_time": "2023-08-23T11:04:13.873208Z",
     "start_time": "2023-08-23T11:04:13.844208Z"
    }
   },
   "outputs": [
    {
     "name": "stdout",
     "output_type": "stream",
     "text": [
      "pred:  tensor([[0.7453, 0.7328, 0.2350, 0.8423, 0.8364, 0.5164, 0.1372, 0.0066, 0.8180,\n",
      "         0.3887, 0.0759, 0.9314, 0.5957, 0.5706, 0.6584]])\n",
      "true:  tensor([[1, 1, 1, 1, 0, 0, 1, 1, 0, 0, 1, 1, 1, 0, 0]])\n",
      "pred_binary:  tensor([[1, 1, 0, 1, 1, 1, 0, 0, 1, 0, 0, 1, 1, 1, 1]], dtype=torch.int32)\n"
     ]
    }
   ],
   "source": [
    "seed = 7777\n",
    "SampleSize = 15\n",
    "torch.manual_seed(seed) \n",
    "torch.cuda.manual_seed(seed) \n",
    "pred = torch.rand(SampleSize).unsqueeze(0)\n",
    "true = torch.randint(2, (SampleSize,)).unsqueeze(0)\n",
    "pred_binary = (pred > 0.5).int()\n",
    "\n",
    "if SampleSize <= 20:\n",
    "    print('pred: ', pred)\n",
    "    print(\"true: \", true)\n",
    "    print(\"pred_binary: \", pred_binary)\n",
    "\"\"\"\n",
    "As sklearn only accepts one-dimensional input arrays, \n",
    "we will need to prepare a one-dimensional array.\n",
    "由于sklearn的输入数组只能是一维，因此我们需要准备一份一维数组\n",
    "\"\"\"\n",
    "pred_ForSklearn = pred.squeeze(0)\n",
    "true_ForSklearn = true.squeeze(0)\n",
    "pred_binary_ForSklearn = pred_binary.squeeze(0)"
   ]
  },
  {
   "cell_type": "markdown",
   "id": "ad52ef56",
   "metadata": {},
   "source": [
    "#### step 1. Demonstration of the Top-k Selection Function's Effectiveness"
   ]
  },
  {
   "cell_type": "code",
   "execution_count": 4,
   "id": "6e59ed54",
   "metadata": {
    "ExecuteTime": {
     "end_time": "2023-08-23T11:04:13.889208Z",
     "start_time": "2023-08-23T11:04:13.876210Z"
    }
   },
   "outputs": [
    {
     "name": "stdout",
     "output_type": "stream",
     "text": [
      "tensor([[0.9314, 0.8423]])\n",
      "tensor([[1, 1]])\n"
     ]
    }
   ],
   "source": [
    "ev = metrics()\n",
    "# @k = 2\n",
    "topk_pred, topk_true = ev.clipping_k(pred=pred, true=true, num=2)\n",
    "print(topk_pred)\n",
    "print(topk_true)"
   ]
  },
  {
   "cell_type": "markdown",
   "id": "76216054",
   "metadata": {},
   "source": [
    "#### step 2. Verification of 'Accuracy' Computation Accuracy"
   ]
  },
  {
   "cell_type": "code",
   "execution_count": 15,
   "id": "3247210d",
   "metadata": {
    "ExecuteTime": {
     "end_time": "2023-08-23T11:04:33.365595Z",
     "start_time": "2023-08-23T11:04:33.354594Z"
    }
   },
   "outputs": [
    {
     "data": {
      "text/plain": [
       "tensor(0.4000, device='cuda:0')"
      ]
     },
     "execution_count": 15,
     "metadata": {},
     "output_type": "execute_result"
    }
   ],
   "source": [
    "ev = metrics()\n",
    "ev.Acc_k(pred=pred.to('cuda'), true=true.to('cuda'))"
   ]
  },
  {
   "cell_type": "code",
   "execution_count": 6,
   "id": "39bbb881",
   "metadata": {
    "ExecuteTime": {
     "end_time": "2023-08-23T11:04:14.673739Z",
     "start_time": "2023-08-23T11:04:14.658740Z"
    }
   },
   "outputs": [
    {
     "data": {
      "text/plain": [
       "0.4"
      ]
     },
     "execution_count": 6,
     "metadata": {},
     "output_type": "execute_result"
    }
   ],
   "source": [
    "accuracy_score(y_true=true_ForSklearn, y_pred=pred_binary_ForSklearn)"
   ]
  },
  {
   "cell_type": "markdown",
   "id": "52f37e64",
   "metadata": {},
   "source": [
    "#### 3. Verification of 'Recall' Computation Accuracy"
   ]
  },
  {
   "cell_type": "code",
   "execution_count": 7,
   "id": "e84c98b5",
   "metadata": {
    "ExecuteTime": {
     "end_time": "2023-08-23T11:04:14.689128Z",
     "start_time": "2023-08-23T11:04:14.676311Z"
    }
   },
   "outputs": [
    {
     "data": {
      "text/plain": [
       "tensor(0.5556, device='cuda:0')"
      ]
     },
     "execution_count": 7,
     "metadata": {},
     "output_type": "execute_result"
    }
   ],
   "source": [
    "ev = metrics()\n",
    "ev.Recall_k(pred=pred.to('cuda'), true=true.to('cuda'))"
   ]
  },
  {
   "cell_type": "code",
   "execution_count": 8,
   "id": "d890ab9e",
   "metadata": {
    "ExecuteTime": {
     "end_time": "2023-08-23T11:04:14.705131Z",
     "start_time": "2023-08-23T11:04:14.693129Z"
    }
   },
   "outputs": [
    {
     "data": {
      "text/plain": [
       "0.5555555555555556"
      ]
     },
     "execution_count": 8,
     "metadata": {},
     "output_type": "execute_result"
    }
   ],
   "source": [
    "recall_score(y_true=true_ForSklearn, y_pred=pred_binary_ForSklearn)"
   ]
  },
  {
   "cell_type": "markdown",
   "id": "e0900999",
   "metadata": {},
   "source": [
    "#### 4. Verification of 'Precision' Computation Accuracy"
   ]
  },
  {
   "cell_type": "code",
   "execution_count": 9,
   "id": "9640b2bf",
   "metadata": {
    "ExecuteTime": {
     "end_time": "2023-08-23T11:04:14.721129Z",
     "start_time": "2023-08-23T11:04:14.708133Z"
    }
   },
   "outputs": [
    {
     "data": {
      "text/plain": [
       "tensor(0.5000, device='cuda:0')"
      ]
     },
     "execution_count": 9,
     "metadata": {},
     "output_type": "execute_result"
    }
   ],
   "source": [
    "ev = metrics()\n",
    "ev.Precision_k(pred=pred.unsqueeze(0).to('cuda'), true=true.unsqueeze(0).to('cuda'))"
   ]
  },
  {
   "cell_type": "code",
   "execution_count": 10,
   "id": "20e5d175",
   "metadata": {
    "ExecuteTime": {
     "end_time": "2023-08-23T11:04:14.737128Z",
     "start_time": "2023-08-23T11:04:14.725131Z"
    }
   },
   "outputs": [
    {
     "data": {
      "text/plain": [
       "0.5"
      ]
     },
     "execution_count": 10,
     "metadata": {},
     "output_type": "execute_result"
    }
   ],
   "source": [
    "precision_score(y_true=true_ForSklearn, y_pred=pred_binary_ForSklearn)"
   ]
  },
  {
   "cell_type": "markdown",
   "id": "42058ead",
   "metadata": {},
   "source": [
    "#### 5. Verification of 'F1_score' Computation Accuracy"
   ]
  },
  {
   "cell_type": "code",
   "execution_count": 11,
   "id": "767a4000",
   "metadata": {
    "ExecuteTime": {
     "end_time": "2023-08-23T11:04:14.753183Z",
     "start_time": "2023-08-23T11:04:14.739129Z"
    }
   },
   "outputs": [
    {
     "data": {
      "text/plain": [
       "tensor(0.5263, device='cuda:0')"
      ]
     },
     "execution_count": 11,
     "metadata": {},
     "output_type": "execute_result"
    }
   ],
   "source": [
    "ev = metrics()\n",
    "ev.F1_score_k(pred=pred.unsqueeze(0).to('cuda'), true=true.unsqueeze(0).to('cuda'))"
   ]
  },
  {
   "cell_type": "code",
   "execution_count": 12,
   "id": "05c47c58",
   "metadata": {
    "ExecuteTime": {
     "end_time": "2023-08-23T11:04:14.769129Z",
     "start_time": "2023-08-23T11:04:14.755129Z"
    }
   },
   "outputs": [
    {
     "data": {
      "text/plain": [
       "0.5263157894736842"
      ]
     },
     "execution_count": 12,
     "metadata": {},
     "output_type": "execute_result"
    }
   ],
   "source": [
    "f1_score(y_true=true_ForSklearn, y_pred=pred_binary_ForSklearn)"
   ]
  },
  {
   "cell_type": "markdown",
   "id": "a640c3f7",
   "metadata": {},
   "source": [
    "#### 6. Verification of 'HR/ARHR' Computation Accuracy"
   ]
  },
  {
   "cell_type": "code",
   "execution_count": 13,
   "id": "595a4fd4",
   "metadata": {
    "ExecuteTime": {
     "end_time": "2023-08-23T11:04:14.801134Z",
     "start_time": "2023-08-23T11:04:14.771128Z"
    }
   },
   "outputs": [
    {
     "name": "stdout",
     "output_type": "stream",
     "text": [
      "(tensor([[0.9314, 0.8423, 0.8364, 0.8180, 0.7453]], device='cuda:0'), tensor([[1, 1, 0, 0, 1]], device='cuda:0'))\n",
      "tensor(0.6000, device='cuda:0')\n",
      "tensor(0.3400, device='cuda:0')\n"
     ]
    }
   ],
   "source": [
    "\"\"\"Manual Verification of its Accuracy\"\"\"\n",
    "\n",
    "ev = metrics()\n",
    "print(ev.clipping_k(pred=pred.to('cuda'), true=true.to('cuda'), num=5))\n",
    "print(ev.HR_k(pred=pred.to('cuda'), true=true.to('cuda'), num=5))\n",
    "print(ev.ARHR(pred=pred.to('cuda'), true=true.to('cuda'), num=5))"
   ]
  },
  {
   "cell_type": "markdown",
   "id": "61fc3948",
   "metadata": {},
   "source": [
    "#### 7. Verification of 'NDCG' Computation Accuracy"
   ]
  },
  {
   "cell_type": "code",
   "execution_count": 14,
   "id": "27cbee06",
   "metadata": {
    "ExecuteTime": {
     "end_time": "2023-08-23T11:04:14.817157Z",
     "start_time": "2023-08-23T11:04:14.803129Z"
    }
   },
   "outputs": [
    {
     "name": "stdout",
     "output_type": "stream",
     "text": [
      "(tensor([[0.9314, 0.8423, 0.8364, 0.8180, 0.7453]], device='cuda:0'), tensor([[1, 1, 0, 0, 1]], device='cuda:0'))\n",
      "tensor(0.9469, device='cuda:0')\n"
     ]
    }
   ],
   "source": [
    "\"\"\"Manual Verification of its Accuracy\"\"\"\n",
    "\n",
    "ev = metrics()\n",
    "print(ev.clipping_k(pred=pred.to('cuda'), true=true.to('cuda'), num=5))\n",
    "print(ev.NDCG_k(pred=pred.to('cuda'), true=true.to('cuda'), num=5))"
   ]
  }
 ],
 "metadata": {
  "kernelspec": {
   "display_name": "Python 3 (ipykernel)",
   "language": "python",
   "name": "python3"
  },
  "language_info": {
   "codemirror_mode": {
    "name": "ipython",
    "version": 3
   },
   "file_extension": ".py",
   "mimetype": "text/x-python",
   "name": "python",
   "nbconvert_exporter": "python",
   "pygments_lexer": "ipython3",
   "version": "3.9.16"
  }
 },
 "nbformat": 4,
 "nbformat_minor": 5
}
